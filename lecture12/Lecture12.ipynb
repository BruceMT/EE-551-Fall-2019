{
 "cells": [
  {
   "cell_type": "markdown",
   "metadata": {},
   "source": [
    "# Queues"
   ]
  },
  {
   "cell_type": "markdown",
   "metadata": {},
   "source": [
    "In real life, a **queue** is a line of customers waiting for service of some kind. In most cases, the first customer in line is the next customer to be served. There are exceptions, though. At airports, customers whose flights are leaving soon are sometimes taken from the middle of the queue. At supermarkets, a polite customer might let someone with only a few items go first."
   ]
  },
  {
   "cell_type": "markdown",
   "metadata": {},
   "source": [
    "The rule that determines who goes next is called the **queueing policy**. The simplest queueing policy is called **FIFO**, for “first-in-first-out.” The most general queueing policy is **priority queueing**, in which each customer is assigned a priority and the customer with the highest priority goes first, regardless of the order of arrival. "
   ]
  },
  {
   "cell_type": "markdown",
   "metadata": {},
   "source": [
    "![alt text](../figures/queue.png)\n",
    "\n",
    "https://www.quora.com/What-is-a-queue-in-data-structure"
   ]
  },
  {
   "cell_type": "markdown",
   "metadata": {},
   "source": [
    "### Add a method ``remove`` to the class ``Queue`` that removes an item from the queue and returns the value of that item."
   ]
  },
  {
   "cell_type": "code",
   "execution_count": 1,
   "metadata": {},
   "outputs": [],
   "source": [
    "class Node(object):\n",
    "    def __init__(self, data=None, next_node=None):\n",
    "        self.data = data\n",
    "        self.next = next_node \n",
    "    def __str__(self):\n",
    "        return str(self.data) \n",
    "    def printBackward(self):\n",
    "        if self.next != None:\n",
    "            tail = self.next\n",
    "            tail.printBackward()\n",
    "        print(self.data, end=\" \")"
   ]
  },
  {
   "cell_type": "code",
   "execution_count": null,
   "metadata": {},
   "outputs": [],
   "source": [
    "class Queue(object):\n",
    "    def __init__(self):\n",
    "        self.length = 0\n",
    "        self.head = None\n",
    "    def isEmpty(self):\n",
    "        return self.length == 0\n",
    "    def insert(self, data):\n",
    "        node = Node(data)\n",
    "        if self.head is None:\n",
    "            self.head = node\n",
    "        else:\n",
    "            last =  self.head\n",
    "            while last.next:\n",
    "                last = last.next\n",
    "            last.next = node\n",
    "        self.length += 1\n",
    "    def remove(self):\n",
    "        data = self.head.data\n",
    "        self.head = self.head.next\n",
    "        self.length -= 1\n",
    "        return data"
   ]
  },
  {
   "cell_type": "code",
   "execution_count": null,
   "metadata": {},
   "outputs": [],
   "source": [
    "q =  Queue()\n",
    "q.insert(1)\n",
    "q.insert(2)\n",
    "q.insert(3)\n",
    "q.insert(4)\n",
    "\n",
    "while q.length !=0:\n",
    "    print(q.remove())"
   ]
  },
  {
   "cell_type": "markdown",
   "metadata": {},
   "source": [
    "**Performance Characteristics**: First look at ``remove``. There are no loops or function calls here, suggesting that the runtime of this method is the same every time. Such a method is called a **constant time** operation. In reality, the method might be slightly faster when the list is empty since it skips the body of the conditional, but that difference is not significant. The performance of **insert** is very different. In the general case, we have to traverse the list to find the last element. This traversal takes time proportional to the length of the list. Since the runtime is a linear function of the length, this method is called **linear time**. Compared to constant time, that’s very bad."
   ]
  },
  {
   "cell_type": "markdown",
   "metadata": {},
   "source": [
    "### Implement a class ``ImprovedQueue`` that can perform all operations in constant time."
   ]
  },
  {
   "cell_type": "code",
   "execution_count": 4,
   "metadata": {},
   "outputs": [],
   "source": [
    "# type here\n",
    "class ImprovedQueue(object):\n",
    "    def __init__(self):\n",
    "        self.length = 0\n",
    "        self.head = None\n",
    "        self.tail = None\n",
    "    def isEmpty(self):\n",
    "        return self.length == 0\n",
    "    def insert(self, data):\n",
    "        node = Node(data)\n",
    "        if self.head is None:\n",
    "            self.head = self.tail = node\n",
    "        else:\n",
    "            self.tail.next = node\n",
    "            self.tail = self.tail.next\n",
    "        self.length += 1\n",
    "    def remove(self):\n",
    "        data = self.head.data\n",
    "        self.head = self.head.next\n",
    "        self.length -= 1\n",
    "        if self.length == 0:\n",
    "            self.tail = None\n",
    "        return data"
   ]
  },
  {
   "cell_type": "code",
   "execution_count": 5,
   "metadata": {},
   "outputs": [
    {
     "name": "stdout",
     "output_type": "stream",
     "text": [
      "1\n",
      "2\n",
      "3\n",
      "4\n"
     ]
    }
   ],
   "source": [
    "# test ImprovedQueue\n",
    "q = ImprovedQueue()\n",
    "q.insert(1)\n",
    "q.insert(2)\n",
    "q.insert(3)\n",
    "q.insert(4)\n",
    "\n",
    "while q.length != 0:\n",
    "    print(q.remove())"
   ]
  },
  {
   "cell_type": "markdown",
   "metadata": {},
   "source": [
    "### Create a class ``PriorityQueue`` that has an attribute a Python list that contains the items in the queue."
   ]
  },
  {
   "cell_type": "code",
   "execution_count": 6,
   "metadata": {},
   "outputs": [],
   "source": [
    "# type here\n",
    "class PriorityQueue(object):\n",
    "    def __init__(self):\n",
    "        self.items = []"
   ]
  },
  {
   "cell_type": "markdown",
   "metadata": {},
   "source": [
    "### Add ``isEmpty`` method to ``PriorityQueue``."
   ]
  },
  {
   "cell_type": "code",
   "execution_count": 7,
   "metadata": {},
   "outputs": [],
   "source": [
    "# type here\n",
    "class PriorityQueue(object):\n",
    "    def __init__(self):\n",
    "        self.items = []\n",
    "    def isEmpty(self):\n",
    "        return len(self.items) == 0"
   ]
  },
  {
   "cell_type": "markdown",
   "metadata": {},
   "source": [
    "### Add ``insert`` method to ``PriorityQueue``."
   ]
  },
  {
   "cell_type": "code",
   "execution_count": 8,
   "metadata": {},
   "outputs": [],
   "source": [
    "# type here\n",
    "class PriorityQueue(object):\n",
    "    def __init__(self):\n",
    "        self.items = []\n",
    "    def isEmpty(self):\n",
    "        return len(self.items) == 0\n",
    "    def insert(self, item):\n",
    "        self.items.append(item)"
   ]
  },
  {
   "cell_type": "markdown",
   "metadata": {},
   "source": [
    "### Add ``remove`` method to ``PriorityQueue``."
   ]
  },
  {
   "cell_type": "code",
   "execution_count": 9,
   "metadata": {},
   "outputs": [],
   "source": [
    "# type here\n",
    "class PriorityQueue(object):\n",
    "    def __init__(self):\n",
    "        self.items = []\n",
    "    def isEmpty(self):\n",
    "        return len(self.items) == 0\n",
    "    def insert(self, item):\n",
    "        self.items.append(item)\n",
    "    def remove(self):\n",
    "        if self.isEmpty(): return\n",
    "        max_idx = 0\n",
    "        for idx in range(1, len(self.items)):\n",
    "            if self.items[idx] > self.items[max_idx]:\n",
    "                max_idx = idx       \n",
    "        return self.items.pop(max_idx)"
   ]
  },
  {
   "cell_type": "markdown",
   "metadata": {},
   "source": [
    "### Demonstrate how ``PriorityQueue`` works"
   ]
  },
  {
   "cell_type": "code",
   "execution_count": 10,
   "metadata": {},
   "outputs": [
    {
     "name": "stdout",
     "output_type": "stream",
     "text": [
      "14\n",
      "13\n",
      "12\n",
      "11\n"
     ]
    }
   ],
   "source": [
    "# type here\n",
    "q = PriorityQueue()\n",
    "q.insert(11)\n",
    "q.insert(12)\n",
    "q.insert(14)\n",
    "q.insert(13)\n",
    "\n",
    "while not q.isEmpty():\n",
    "    print(q.remove())"
   ]
  },
  {
   "cell_type": "markdown",
   "metadata": {},
   "source": [
    "### Implement a class ``Golfer`` that takes ``name`` and ``score`` as arguments and creates attributes for them."
   ]
  },
  {
   "cell_type": "code",
   "execution_count": 11,
   "metadata": {},
   "outputs": [],
   "source": [
    "# type here\n",
    "class Golfer(object):\n",
    "    def __init__(self, name, score):\n",
    "        self.name = name\n",
    "        self.score = score"
   ]
  },
  {
   "cell_type": "markdown",
   "metadata": {},
   "source": [
    "### Overwrite ``print`` function for ``Golfer`` object so that it prints \"Tiger Woods   : 61\"."
   ]
  },
  {
   "cell_type": "code",
   "execution_count": 12,
   "metadata": {},
   "outputs": [],
   "source": [
    "# type here\n",
    "class Golfer(object):\n",
    "    def __init__(self, name, score):\n",
    "        self.name = name\n",
    "        self.score = score\n",
    "    def __str__(self):\n",
    "        return \"%-16s: %d\" %(self.name, self.score)"
   ]
  },
  {
   "cell_type": "code",
   "execution_count": 13,
   "metadata": {},
   "outputs": [
    {
     "name": "stdout",
     "output_type": "stream",
     "text": [
      "Tiger Woods     : 61\n"
     ]
    }
   ],
   "source": [
    "# test Golfer\n",
    "tiger = Golfer(\"Tiger Woods\", 61)\n",
    "print(tiger)"
   ]
  },
  {
   "cell_type": "markdown",
   "metadata": {},
   "source": [
    "### Overwrite comparison functions for Golfer object so that smaller score is more."
   ]
  },
  {
   "cell_type": "code",
   "execution_count": 14,
   "metadata": {},
   "outputs": [],
   "source": [
    "# type here\n",
    "class Golfer(object):\n",
    "    def __init__(self, name, score):\n",
    "        self.name = name\n",
    "        self.score = score\n",
    "    def __str__(self):\n",
    "        return \"%-16s: %d\" %(self.name, self.score)\n",
    "    def __lt__(self, other):\n",
    "        if self.score < other.score:\n",
    "            return False\n",
    "        else:\n",
    "            return True\n",
    "    def __gt__(self, other):\n",
    "        if self.score < other.score:\n",
    "            return True\n",
    "        else:\n",
    "            return False\n",
    "    def __eq__(self, other):\n",
    "        return self.score == other.score"
   ]
  },
  {
   "cell_type": "markdown",
   "metadata": {},
   "source": [
    "### Test ``PriorityQueue`` with ``Golfer`` class."
   ]
  },
  {
   "cell_type": "code",
   "execution_count": 15,
   "metadata": {},
   "outputs": [
    {
     "name": "stdout",
     "output_type": "stream",
     "text": [
      "Tiger Woods     : 61\n",
      "Hal Sutton      : 69\n",
      "Phil Mickelson  : 72\n"
     ]
    }
   ],
   "source": [
    "# type here\n",
    "tiger = Golfer(\"Tiger Woods\", 61)\n",
    "phil = Golfer(\"Phil Mickelson\", 72)\n",
    "hal = Golfer(\"Hal Sutton\", 69)\n",
    "\n",
    "pq = PriorityQueue()\n",
    "pq.insert(tiger)\n",
    "pq.insert(phil)\n",
    "pq.insert(hal)\n",
    "\n",
    "while not pq.isEmpty():\n",
    "    print(pq.remove())"
   ]
  },
  {
   "cell_type": "markdown",
   "metadata": {},
   "source": [
    "# Trees\n",
    "\n",
    "Like linked lists, trees are made up nodes. A common kind of tree is a **binary tree**, in which each node contains a reference to two other nodes"
   ]
  },
  {
   "cell_type": "markdown",
   "metadata": {},
   "source": [
    "![alt text](../figures/tree.png)"
   ]
  },
  {
   "cell_type": "markdown",
   "metadata": {},
   "source": [
    "The top of the tree (the node tree refers to) is called the **root**. The other nodes are called branches and the nodes at the tips with null references are called **leaves**.\n",
    "\n",
    "The top node is sometimes called a **parent** and the nodes it refers to are its **children**. Nodes with the same parent are called **siblings**.\n",
    "\n",
    "Also, all of the nodes that are the same distance from the root comprise a **level** of the tree."
   ]
  },
  {
   "cell_type": "markdown",
   "metadata": {},
   "source": [
    "### Create a class ``Tree`` that takes ``data``, ``left`` and ``right`` as arguments and creates attributes for them."
   ]
  },
  {
   "cell_type": "code",
   "execution_count": 17,
   "metadata": {},
   "outputs": [],
   "source": [
    "# type here\n",
    "class Tree(object):\n",
    "    def __init__(self, data, left=None, right=None):\n",
    "        self.data = data\n",
    "        self.left = left\n",
    "        self.right = right"
   ]
  },
  {
   "cell_type": "code",
   "execution_count": 18,
   "metadata": {},
   "outputs": [
    {
     "name": "stdout",
     "output_type": "stream",
     "text": [
      "3\n"
     ]
    }
   ],
   "source": [
    "# test Tree\n",
    "t = Tree(3)\n",
    "print(t.data)"
   ]
  },
  {
   "cell_type": "markdown",
   "metadata": {},
   "source": [
    "### Overwrite ``print`` so that it prints the value of ``data``."
   ]
  },
  {
   "cell_type": "code",
   "execution_count": 19,
   "metadata": {},
   "outputs": [],
   "source": [
    "# type here\n",
    "class Tree(object):\n",
    "    def __init__(self, data, left=None, right=None):\n",
    "        self.data = data\n",
    "        self.left = left\n",
    "        self.right = right\n",
    "    def __str__(self):\n",
    "        return str(self.data)"
   ]
  },
  {
   "cell_type": "code",
   "execution_count": 20,
   "metadata": {},
   "outputs": [
    {
     "name": "stdout",
     "output_type": "stream",
     "text": [
      "3\n"
     ]
    }
   ],
   "source": [
    "# test Tree\n",
    "t = Tree(3)\n",
    "print(t)"
   ]
  },
  {
   "cell_type": "markdown",
   "metadata": {},
   "source": [
    "### Create instances ``left`` and ``right`` of class ``Tree`` and assign values 2 and 3, respectively."
   ]
  },
  {
   "cell_type": "code",
   "execution_count": 22,
   "metadata": {},
   "outputs": [
    {
     "name": "stdout",
     "output_type": "stream",
     "text": [
      "Left is:  2\n",
      "Right is:  3\n"
     ]
    }
   ],
   "source": [
    "# type here\n",
    "left = Tree(2)\n",
    "right = Tree(3)\n",
    "\n",
    "print(\"Left is: \",left.__str__())\n",
    "print(\"Right is: \",right.__str__())"
   ]
  },
  {
   "cell_type": "markdown",
   "metadata": {},
   "source": [
    "### Create an instance ``tree`` with data 1 and link to the children ``left`` and ``right``."
   ]
  },
  {
   "cell_type": "code",
   "execution_count": 23,
   "metadata": {},
   "outputs": [],
   "source": [
    "# type here\n",
    "tree = Tree(1, left, right)"
   ]
  },
  {
   "cell_type": "markdown",
   "metadata": {},
   "source": [
    "### Write a function ``total`` that sums up all the data values in a tree."
   ]
  },
  {
   "cell_type": "code",
   "execution_count": 24,
   "metadata": {},
   "outputs": [],
   "source": [
    "# type here\n",
    "def total(tree):\n",
    "    if tree is None:\n",
    "        return 0\n",
    "    return tree.data + total(tree.left) + total(tree.right)"
   ]
  },
  {
   "cell_type": "code",
   "execution_count": 25,
   "metadata": {},
   "outputs": [
    {
     "name": "stdout",
     "output_type": "stream",
     "text": [
      "6\n"
     ]
    }
   ],
   "source": [
    "# test\n",
    "print(total(tree))"
   ]
  },
  {
   "cell_type": "markdown",
   "metadata": {},
   "source": [
    "### Write a function ``printTree`` that takes the tree as an argument and first prints the contents of the root, then prints the entire left subtree, and then prints the entire right subtree. \n",
    "\n",
    "This way of traversing a tree is called a **preorder**"
   ]
  },
  {
   "cell_type": "code",
   "execution_count": 26,
   "metadata": {},
   "outputs": [],
   "source": [
    "# type here\n",
    "def printTree(tree):\n",
    "    if tree is None: return\n",
    "    print(tree.data, end=' ')\n",
    "    printTree(tree.left)\n",
    "    printTree(tree.right)"
   ]
  },
  {
   "cell_type": "code",
   "execution_count": 27,
   "metadata": {},
   "outputs": [
    {
     "name": "stdout",
     "output_type": "stream",
     "text": [
      "1 1 2 3 3 "
     ]
    }
   ],
   "source": [
    "# test\n",
    "t = Tree(1, left=tree, right=Tree(3))\n",
    "printTree(t)"
   ]
  },
  {
   "cell_type": "markdown",
   "metadata": {},
   "source": [
    "### Test ``printTree`` for the expression tree depicted below:\n",
    "\n",
    "![alt text](../figures/expression_tree.png)"
   ]
  },
  {
   "cell_type": "code",
   "execution_count": 28,
   "metadata": {},
   "outputs": [
    {
     "name": "stdout",
     "output_type": "stream",
     "text": [
      "+ 1 * 2 3 "
     ]
    }
   ],
   "source": [
    "# type here\n",
    "t = Tree('+', left=Tree(1), \n",
    "         right=Tree('*', left=Tree(2), right=Tree(3)))\n",
    "\n",
    "printTree(t)"
   ]
  },
  {
   "cell_type": "markdown",
   "metadata": {},
   "source": [
    "### Write a function printTreePostOrder that takes the tree as an argument and prints the subtrees first and then the root node."
   ]
  },
  {
   "cell_type": "code",
   "execution_count": 29,
   "metadata": {},
   "outputs": [],
   "source": [
    "# type here\n",
    "def printTreePostorder(tree):\n",
    "    if tree is None: return\n",
    "    printTreePostorder(tree.left)\n",
    "    printTreePostorder(tree.right)\n",
    "    print(tree.data, end=' ')\n"
   ]
  },
  {
   "cell_type": "code",
   "execution_count": 30,
   "metadata": {},
   "outputs": [
    {
     "name": "stdout",
     "output_type": "stream",
     "text": [
      "1 2 3 * + "
     ]
    }
   ],
   "source": [
    "# test\n",
    "printTreePostorder(t)"
   ]
  },
  {
   "cell_type": "markdown",
   "metadata": {},
   "source": [
    "### Write a function ``printTreeInOrder`` that takes the tree as an argument and prints the left subtree first and then the root node, and then the right tree."
   ]
  },
  {
   "cell_type": "code",
   "execution_count": 31,
   "metadata": {},
   "outputs": [],
   "source": [
    "# type here\n",
    "def printTreeInorder(tree):\n",
    "    if tree is None: return\n",
    "    printTreeInorder(tree.left)\n",
    "    print(tree.data, end=' ')\n",
    "    printTreeInorder(tree.right)"
   ]
  },
  {
   "cell_type": "code",
   "execution_count": 32,
   "metadata": {},
   "outputs": [
    {
     "name": "stdout",
     "output_type": "stream",
     "text": [
      "1 + 2 * 3 "
     ]
    }
   ],
   "source": [
    "# test\n",
    "printTreeInorder(t)"
   ]
  }
 ],
 "metadata": {
  "kernelspec": {
   "display_name": "Python 3",
   "language": "python",
   "name": "python3"
  },
  "language_info": {
   "codemirror_mode": {
    "name": "ipython",
    "version": 3
   },
   "file_extension": ".py",
   "mimetype": "text/x-python",
   "name": "python",
   "nbconvert_exporter": "python",
   "pygments_lexer": "ipython3",
   "version": "3.7.0"
  }
 },
 "nbformat": 4,
 "nbformat_minor": 2
}
